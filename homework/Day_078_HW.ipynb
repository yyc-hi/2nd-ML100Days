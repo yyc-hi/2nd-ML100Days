{
 "cells": [
  {
   "cell_type": "markdown",
   "metadata": {},
   "source": [
    "## Work\n",
    "1. 請嘗試將 preproc_x 替換成以每筆資料的 min/max 進行標準化至 -1 ~ 1 間，再進行訓練\n",
    "2. 請嘗試將 mlp 疊更深 (e.g 5~10 層)，進行訓練後觀察 learning curve 的走勢\n",
    "3. (optional) 請改用 GPU 進行訓練 (如果你有 GPU 的話)，比較使用 CPU 與 GPU 的訓練速度"
   ]
  },
  {
   "cell_type": "code",
   "execution_count": 1,
   "metadata": {},
   "outputs": [
    {
     "name": "stderr",
     "output_type": "stream",
     "text": [
      "Using TensorFlow backend.\n"
     ]
    }
   ],
   "source": [
    "import os\n",
    "import keras\n",
    "from sklearn.preprocessing import MinMaxScaler\n",
    "\n",
    "# 請嘗試設定 GPU：os.environ\n",
    "os.environ[\"CUDA_VISIBLE_DEVICES\"] = \"\""
   ]
  },
  {
   "cell_type": "code",
   "execution_count": 2,
   "metadata": {},
   "outputs": [],
   "source": [
    "train, test = keras.datasets.cifar10.load_data()"
   ]
  },
  {
   "cell_type": "code",
   "execution_count": 3,
   "metadata": {},
   "outputs": [],
   "source": [
    "## 資料前處理\n",
    "\"\"\"\n",
    "Your code here\n",
    "\"\"\"\n",
    "def preproc_x(x, scaler, train=False):\n",
    "    x = x.reshape((len(x), -1))\n",
    "    if train:\n",
    "        scaler.fit(x)\n",
    "    return scaler.transform(x)\n",
    "\n",
    "def preproc_y(y, num_classes=10):\n",
    "    if y.shape[-1] == 1:\n",
    "        y = keras.utils.to_categorical(y, num_classes)\n",
    "    return y "
   ]
  },
  {
   "cell_type": "code",
   "execution_count": 4,
   "metadata": {},
   "outputs": [
    {
     "name": "stderr",
     "output_type": "stream",
     "text": [
      "/opt/conda/lib/python3.7/site-packages/sklearn/utils/validation.py:595: DataConversionWarning: Data with input dtype uint8 was converted to float64 by MinMaxScaler.\n",
      "  warnings.warn(msg, DataConversionWarning)\n"
     ]
    }
   ],
   "source": [
    "x_train, y_train = train\n",
    "x_test, y_test = test\n",
    "\n",
    "# Preproc the inputs\n",
    "scaler = MinMaxScaler(feature_range=(-1, 1))\n",
    "x_train = preproc_x(x_train, scaler, train=True)\n",
    "x_test = preproc_x(x_test, scaler, train=False)\n",
    "\n",
    "# Preprc the outputs\n",
    "y_train = preproc_y(y_train)\n",
    "y_test = preproc_y(y_test)"
   ]
  },
  {
   "cell_type": "code",
   "execution_count": 5,
   "metadata": {},
   "outputs": [
    {
     "name": "stdout",
     "output_type": "stream",
     "text": [
      "WARNING:tensorflow:From /opt/conda/lib/python3.7/site-packages/tensorflow/python/framework/op_def_library.py:263: colocate_with (from tensorflow.python.framework.ops) is deprecated and will be removed in a future version.\n",
      "Instructions for updating:\n",
      "Colocations handled automatically by placer.\n",
      "_________________________________________________________________\n",
      "Layer (type)                 Output Shape              Param #   \n",
      "=================================================================\n",
      "input_1 (InputLayer)         (None, 3072)              0         \n",
      "_________________________________________________________________\n",
      "hidden_layer1 (Dense)        (None, 512)               1573376   \n",
      "_________________________________________________________________\n",
      "hidden_layer2 (Dense)        (None, 256)               131328    \n",
      "_________________________________________________________________\n",
      "hidden_layer3 (Dense)        (None, 128)               32896     \n",
      "_________________________________________________________________\n",
      "hidden_layer4 (Dense)        (None, 64)                8256      \n",
      "_________________________________________________________________\n",
      "hidden_layer5 (Dense)        (None, 32)                2080      \n",
      "_________________________________________________________________\n",
      "hidden_layer6 (Dense)        (None, 16)                528       \n",
      "_________________________________________________________________\n",
      "output (Dense)               (None, 10)                170       \n",
      "=================================================================\n",
      "Total params: 1,748,634\n",
      "Trainable params: 1,748,634\n",
      "Non-trainable params: 0\n",
      "_________________________________________________________________\n"
     ]
    }
   ],
   "source": [
    "\"\"\"Code Here\n",
    "建立你的神經網路\n",
    "\"\"\"\n",
    "def build_mlp(input_shape, output_units=10, num_neurons=[512, 256, 128, 64, 32, 16]):\n",
    "    input_layer = keras.layers.Input(input_shape)\n",
    "    \n",
    "    for i, n_units in enumerate(num_neurons):\n",
    "        if i == 0:\n",
    "            x = keras.layers.Dense(units=n_units, activation=\"relu\", name=\"hidden_layer\"+str(i+1))(input_layer)\n",
    "        else:\n",
    "            x = keras.layers.Dense(units=n_units, activation=\"relu\", name=\"hidden_layer\"+str(i+1))(x)\n",
    "    \n",
    "    out = keras.layers.Dense(units=output_units, activation=\"softmax\", name=\"output\")(x)\n",
    "    \n",
    "    model = keras.models.Model(inputs=[input_layer], outputs=[out])\n",
    "    return model\n",
    "\n",
    "model = build_mlp(input_shape=x_train.shape[1:])\n",
    "model.summary()"
   ]
  },
  {
   "cell_type": "code",
   "execution_count": 6,
   "metadata": {},
   "outputs": [],
   "source": [
    "## 超參數設定\n",
    "LEARNING_RATE = 0.001\n",
    "EPOCHS = 100\n",
    "BATCH_SIZE = 256"
   ]
  },
  {
   "cell_type": "code",
   "execution_count": 7,
   "metadata": {},
   "outputs": [],
   "source": [
    "optimizer = keras.optimizers.Adam(lr=LEARNING_RATE)\n",
    "model.compile(loss=\"categorical_crossentropy\", metrics=[\"accuracy\"], optimizer=optimizer)"
   ]
  },
  {
   "cell_type": "code",
   "execution_count": 8,
   "metadata": {},
   "outputs": [
    {
     "name": "stdout",
     "output_type": "stream",
     "text": [
      "WARNING:tensorflow:From /opt/conda/lib/python3.7/site-packages/tensorflow/python/ops/math_ops.py:3066: to_int32 (from tensorflow.python.ops.math_ops) is deprecated and will be removed in a future version.\n",
      "Instructions for updating:\n",
      "Use tf.cast instead.\n",
      "Train on 50000 samples, validate on 10000 samples\n",
      "Epoch 1/100\n",
      "50000/50000 [==============================] - 4s 88us/step - loss: 1.8378 - acc: 0.3488 - val_loss: 1.6066 - val_acc: 0.4350\n",
      "Epoch 2/100\n",
      "50000/50000 [==============================] - 4s 81us/step - loss: 1.5582 - acc: 0.4511 - val_loss: 1.5265 - val_acc: 0.4618\n",
      "Epoch 3/100\n",
      "50000/50000 [==============================] - 4s 81us/step - loss: 1.4310 - acc: 0.4981 - val_loss: 1.4322 - val_acc: 0.4960\n",
      "Epoch 4/100\n",
      "50000/50000 [==============================] - 4s 81us/step - loss: 1.3309 - acc: 0.5329 - val_loss: 1.4234 - val_acc: 0.4971\n",
      "Epoch 5/100\n",
      "50000/50000 [==============================] - 4s 81us/step - loss: 1.2463 - acc: 0.5631 - val_loss: 1.4043 - val_acc: 0.5133\n",
      "Epoch 6/100\n",
      "50000/50000 [==============================] - 4s 81us/step - loss: 1.1683 - acc: 0.5902 - val_loss: 1.4017 - val_acc: 0.5172\n",
      "Epoch 7/100\n",
      "50000/50000 [==============================] - 4s 81us/step - loss: 1.0929 - acc: 0.6147 - val_loss: 1.3626 - val_acc: 0.5334\n",
      "Epoch 8/100\n",
      "50000/50000 [==============================] - 4s 81us/step - loss: 1.0199 - acc: 0.6408 - val_loss: 1.3973 - val_acc: 0.5236\n",
      "Epoch 9/100\n",
      "50000/50000 [==============================] - 4s 81us/step - loss: 0.9521 - acc: 0.6644 - val_loss: 1.3836 - val_acc: 0.5442\n",
      "Epoch 10/100\n",
      "50000/50000 [==============================] - 4s 81us/step - loss: 0.8877 - acc: 0.6860 - val_loss: 1.4465 - val_acc: 0.5361\n",
      "Epoch 11/100\n",
      "50000/50000 [==============================] - 4s 80us/step - loss: 0.8221 - acc: 0.7097 - val_loss: 1.4804 - val_acc: 0.5351\n",
      "Epoch 12/100\n",
      "50000/50000 [==============================] - 4s 80us/step - loss: 0.7662 - acc: 0.7300 - val_loss: 1.4764 - val_acc: 0.5371\n",
      "Epoch 13/100\n",
      "50000/50000 [==============================] - 4s 80us/step - loss: 0.7082 - acc: 0.7494 - val_loss: 1.6071 - val_acc: 0.5384\n",
      "Epoch 14/100\n",
      "50000/50000 [==============================] - 4s 80us/step - loss: 0.6437 - acc: 0.7711 - val_loss: 1.6285 - val_acc: 0.5347\n",
      "Epoch 15/100\n",
      "50000/50000 [==============================] - 4s 80us/step - loss: 0.5905 - acc: 0.7926 - val_loss: 1.7308 - val_acc: 0.5359\n",
      "Epoch 16/100\n",
      "50000/50000 [==============================] - 4s 81us/step - loss: 0.5512 - acc: 0.8052 - val_loss: 1.7788 - val_acc: 0.5330\n",
      "Epoch 17/100\n",
      "50000/50000 [==============================] - 4s 80us/step - loss: 0.5139 - acc: 0.8183 - val_loss: 1.7916 - val_acc: 0.5375\n",
      "Epoch 18/100\n",
      "50000/50000 [==============================] - 4s 81us/step - loss: 0.4653 - acc: 0.8370 - val_loss: 1.9379 - val_acc: 0.5331\n",
      "Epoch 19/100\n",
      "50000/50000 [==============================] - 4s 81us/step - loss: 0.4311 - acc: 0.8489 - val_loss: 2.0394 - val_acc: 0.5414\n",
      "Epoch 20/100\n",
      "50000/50000 [==============================] - 4s 81us/step - loss: 0.3962 - acc: 0.8619 - val_loss: 2.1619 - val_acc: 0.5279\n",
      "Epoch 21/100\n",
      "50000/50000 [==============================] - 4s 81us/step - loss: 0.3620 - acc: 0.8739 - val_loss: 2.1901 - val_acc: 0.5399\n",
      "Epoch 22/100\n",
      "50000/50000 [==============================] - 4s 81us/step - loss: 0.3441 - acc: 0.8797 - val_loss: 2.2689 - val_acc: 0.5413\n",
      "Epoch 23/100\n",
      "50000/50000 [==============================] - 4s 81us/step - loss: 0.3252 - acc: 0.8868 - val_loss: 2.3072 - val_acc: 0.5278\n",
      "Epoch 24/100\n",
      "50000/50000 [==============================] - 4s 81us/step - loss: 0.3025 - acc: 0.8951 - val_loss: 2.3626 - val_acc: 0.5335\n",
      "Epoch 25/100\n",
      "50000/50000 [==============================] - 4s 81us/step - loss: 0.2909 - acc: 0.8989 - val_loss: 2.5048 - val_acc: 0.5262\n",
      "Epoch 26/100\n",
      "50000/50000 [==============================] - 4s 81us/step - loss: 0.2785 - acc: 0.9029 - val_loss: 2.5056 - val_acc: 0.5242\n",
      "Epoch 27/100\n",
      "50000/50000 [==============================] - 4s 81us/step - loss: 0.2472 - acc: 0.9146 - val_loss: 2.6862 - val_acc: 0.5257\n",
      "Epoch 28/100\n",
      "50000/50000 [==============================] - 4s 81us/step - loss: 0.2421 - acc: 0.9151 - val_loss: 2.6861 - val_acc: 0.5308\n",
      "Epoch 29/100\n",
      "50000/50000 [==============================] - 4s 80us/step - loss: 0.2273 - acc: 0.9202 - val_loss: 2.6930 - val_acc: 0.5347\n",
      "Epoch 30/100\n",
      "50000/50000 [==============================] - 4s 80us/step - loss: 0.2140 - acc: 0.9273 - val_loss: 2.7857 - val_acc: 0.5331\n",
      "Epoch 31/100\n",
      "50000/50000 [==============================] - 4s 80us/step - loss: 0.2111 - acc: 0.9265 - val_loss: 2.8549 - val_acc: 0.5351\n",
      "Epoch 32/100\n",
      "50000/50000 [==============================] - 4s 80us/step - loss: 0.2099 - acc: 0.9290 - val_loss: 2.8775 - val_acc: 0.5306\n",
      "Epoch 33/100\n",
      "50000/50000 [==============================] - 4s 81us/step - loss: 0.1819 - acc: 0.9374 - val_loss: 2.9180 - val_acc: 0.5322\n",
      "Epoch 34/100\n",
      "50000/50000 [==============================] - 4s 80us/step - loss: 0.1750 - acc: 0.9399 - val_loss: 3.0299 - val_acc: 0.5349\n",
      "Epoch 35/100\n",
      "50000/50000 [==============================] - 4s 80us/step - loss: 0.1887 - acc: 0.9347 - val_loss: 3.0825 - val_acc: 0.5305\n",
      "Epoch 36/100\n",
      "50000/50000 [==============================] - 4s 80us/step - loss: 0.1692 - acc: 0.9422 - val_loss: 3.0405 - val_acc: 0.5349\n",
      "Epoch 37/100\n",
      "50000/50000 [==============================] - 4s 80us/step - loss: 0.1631 - acc: 0.9441 - val_loss: 3.0757 - val_acc: 0.5290\n",
      "Epoch 38/100\n",
      "50000/50000 [==============================] - 4s 80us/step - loss: 0.1593 - acc: 0.9447 - val_loss: 3.2026 - val_acc: 0.5319\n",
      "Epoch 39/100\n",
      "50000/50000 [==============================] - 4s 81us/step - loss: 0.1459 - acc: 0.9510 - val_loss: 3.2464 - val_acc: 0.5342\n",
      "Epoch 40/100\n",
      "50000/50000 [==============================] - 4s 80us/step - loss: 0.1572 - acc: 0.9467 - val_loss: 3.2464 - val_acc: 0.5303\n",
      "Epoch 41/100\n",
      "50000/50000 [==============================] - 4s 80us/step - loss: 0.1569 - acc: 0.9473 - val_loss: 3.3168 - val_acc: 0.5293\n",
      "Epoch 42/100\n",
      "50000/50000 [==============================] - 4s 80us/step - loss: 0.1510 - acc: 0.9482 - val_loss: 3.0862 - val_acc: 0.5338\n",
      "Epoch 43/100\n",
      "50000/50000 [==============================] - 4s 81us/step - loss: 0.1409 - acc: 0.9516 - val_loss: 3.2044 - val_acc: 0.5344\n",
      "Epoch 44/100\n",
      "50000/50000 [==============================] - 4s 80us/step - loss: 0.1311 - acc: 0.9550 - val_loss: 3.2686 - val_acc: 0.5277\n",
      "Epoch 45/100\n",
      "50000/50000 [==============================] - 4s 80us/step - loss: 0.1459 - acc: 0.9511 - val_loss: 3.2783 - val_acc: 0.5360\n",
      "Epoch 46/100\n",
      "50000/50000 [==============================] - 4s 80us/step - loss: 0.1204 - acc: 0.9592 - val_loss: 3.2797 - val_acc: 0.5363\n",
      "Epoch 47/100\n",
      "50000/50000 [==============================] - 4s 80us/step - loss: 0.1241 - acc: 0.9594 - val_loss: 3.4675 - val_acc: 0.5297\n",
      "Epoch 48/100\n",
      "50000/50000 [==============================] - 4s 80us/step - loss: 0.1204 - acc: 0.9600 - val_loss: 3.4915 - val_acc: 0.5290\n",
      "Epoch 49/100\n",
      "50000/50000 [==============================] - 4s 80us/step - loss: 0.1441 - acc: 0.9527 - val_loss: 3.3656 - val_acc: 0.5259\n",
      "Epoch 50/100\n",
      "50000/50000 [==============================] - 4s 80us/step - loss: 0.1024 - acc: 0.9659 - val_loss: 3.4677 - val_acc: 0.5411\n",
      "Epoch 51/100\n",
      "50000/50000 [==============================] - 4s 80us/step - loss: 0.1288 - acc: 0.9568 - val_loss: 3.5011 - val_acc: 0.5329\n",
      "Epoch 52/100\n",
      "50000/50000 [==============================] - 4s 80us/step - loss: 0.1329 - acc: 0.9563 - val_loss: 3.3890 - val_acc: 0.5297\n",
      "Epoch 53/100\n",
      "50000/50000 [==============================] - 4s 80us/step - loss: 0.1019 - acc: 0.9658 - val_loss: 3.5309 - val_acc: 0.5400\n",
      "Epoch 54/100\n",
      "50000/50000 [==============================] - 4s 80us/step - loss: 0.0957 - acc: 0.9681 - val_loss: 3.5915 - val_acc: 0.5322\n",
      "Epoch 55/100\n",
      "50000/50000 [==============================] - 4s 80us/step - loss: 0.1205 - acc: 0.9610 - val_loss: 3.4656 - val_acc: 0.5315\n",
      "Epoch 56/100\n",
      "50000/50000 [==============================] - 4s 80us/step - loss: 0.1068 - acc: 0.9644 - val_loss: 3.5420 - val_acc: 0.5293\n",
      "Epoch 57/100\n",
      "50000/50000 [==============================] - 4s 80us/step - loss: 0.0968 - acc: 0.9673 - val_loss: 3.5890 - val_acc: 0.5364\n"
     ]
    },
    {
     "name": "stdout",
     "output_type": "stream",
     "text": [
      "Epoch 58/100\n",
      "50000/50000 [==============================] - 4s 80us/step - loss: 0.0977 - acc: 0.9679 - val_loss: 3.6222 - val_acc: 0.5366\n",
      "Epoch 59/100\n",
      "50000/50000 [==============================] - 4s 80us/step - loss: 0.1099 - acc: 0.9631 - val_loss: 3.6140 - val_acc: 0.5211\n",
      "Epoch 60/100\n",
      "50000/50000 [==============================] - 4s 80us/step - loss: 0.1133 - acc: 0.9631 - val_loss: 3.5091 - val_acc: 0.5274\n",
      "Epoch 61/100\n",
      "50000/50000 [==============================] - 4s 80us/step - loss: 0.0983 - acc: 0.9676 - val_loss: 3.6415 - val_acc: 0.5387\n",
      "Epoch 62/100\n",
      "50000/50000 [==============================] - 4s 80us/step - loss: 0.1079 - acc: 0.9641 - val_loss: 3.6899 - val_acc: 0.5397\n",
      "Epoch 63/100\n",
      "50000/50000 [==============================] - 4s 80us/step - loss: 0.0888 - acc: 0.9705 - val_loss: 3.6412 - val_acc: 0.5283\n",
      "Epoch 64/100\n",
      "50000/50000 [==============================] - 4s 80us/step - loss: 0.0893 - acc: 0.9709 - val_loss: 3.6930 - val_acc: 0.5257\n",
      "Epoch 65/100\n",
      "50000/50000 [==============================] - 4s 81us/step - loss: 0.0969 - acc: 0.9677 - val_loss: 3.5693 - val_acc: 0.5327\n",
      "Epoch 66/100\n",
      "50000/50000 [==============================] - 4s 81us/step - loss: 0.0887 - acc: 0.9704 - val_loss: 3.7315 - val_acc: 0.5394\n",
      "Epoch 67/100\n",
      "50000/50000 [==============================] - 4s 81us/step - loss: 0.0759 - acc: 0.9751 - val_loss: 3.6440 - val_acc: 0.5381\n",
      "Epoch 68/100\n",
      "50000/50000 [==============================] - 4s 81us/step - loss: 0.1041 - acc: 0.9664 - val_loss: 3.6964 - val_acc: 0.5322\n",
      "Epoch 69/100\n",
      "50000/50000 [==============================] - 4s 81us/step - loss: 0.0801 - acc: 0.9745 - val_loss: 3.7820 - val_acc: 0.5329\n",
      "Epoch 70/100\n",
      "50000/50000 [==============================] - 4s 81us/step - loss: 0.0887 - acc: 0.9711 - val_loss: 3.9008 - val_acc: 0.5253\n",
      "Epoch 71/100\n",
      "50000/50000 [==============================] - 4s 81us/step - loss: 0.1044 - acc: 0.9665 - val_loss: 3.5431 - val_acc: 0.5282\n",
      "Epoch 72/100\n",
      "50000/50000 [==============================] - 4s 81us/step - loss: 0.0644 - acc: 0.9790 - val_loss: 3.8270 - val_acc: 0.5341\n",
      "Epoch 73/100\n",
      "50000/50000 [==============================] - 4s 81us/step - loss: 0.0970 - acc: 0.9688 - val_loss: 3.6684 - val_acc: 0.5348\n",
      "Epoch 74/100\n",
      "50000/50000 [==============================] - 4s 81us/step - loss: 0.0735 - acc: 0.9759 - val_loss: 3.7788 - val_acc: 0.5395\n",
      "Epoch 75/100\n",
      "50000/50000 [==============================] - 4s 80us/step - loss: 0.0693 - acc: 0.9766 - val_loss: 3.7947 - val_acc: 0.5370\n",
      "Epoch 76/100\n",
      "50000/50000 [==============================] - 4s 80us/step - loss: 0.1005 - acc: 0.9676 - val_loss: 3.6471 - val_acc: 0.5247\n",
      "Epoch 77/100\n",
      "50000/50000 [==============================] - 4s 80us/step - loss: 0.0806 - acc: 0.9730 - val_loss: 3.7026 - val_acc: 0.5334\n",
      "Epoch 78/100\n",
      "50000/50000 [==============================] - 4s 80us/step - loss: 0.0626 - acc: 0.9798 - val_loss: 3.7879 - val_acc: 0.5301\n",
      "Epoch 79/100\n",
      "50000/50000 [==============================] - 4s 81us/step - loss: 0.0862 - acc: 0.9729 - val_loss: 3.6368 - val_acc: 0.5223\n",
      "Epoch 80/100\n",
      "50000/50000 [==============================] - 4s 80us/step - loss: 0.0943 - acc: 0.9698 - val_loss: 3.7279 - val_acc: 0.5303\n",
      "Epoch 81/100\n",
      "50000/50000 [==============================] - 4s 80us/step - loss: 0.0839 - acc: 0.9723 - val_loss: 3.7200 - val_acc: 0.5343\n",
      "Epoch 82/100\n",
      "50000/50000 [==============================] - 4s 80us/step - loss: 0.0687 - acc: 0.9772 - val_loss: 3.8536 - val_acc: 0.5370\n",
      "Epoch 83/100\n",
      "50000/50000 [==============================] - 4s 80us/step - loss: 0.0895 - acc: 0.9711 - val_loss: 3.7383 - val_acc: 0.5248\n",
      "Epoch 84/100\n",
      "50000/50000 [==============================] - 4s 80us/step - loss: 0.0752 - acc: 0.9743 - val_loss: 3.8242 - val_acc: 0.5340\n",
      "Epoch 85/100\n",
      "50000/50000 [==============================] - 4s 80us/step - loss: 0.0642 - acc: 0.9798 - val_loss: 3.9005 - val_acc: 0.5259\n",
      "Epoch 86/100\n",
      "50000/50000 [==============================] - 4s 81us/step - loss: 0.0693 - acc: 0.9773 - val_loss: 3.8660 - val_acc: 0.5339\n",
      "Epoch 87/100\n",
      "50000/50000 [==============================] - 4s 81us/step - loss: 0.0686 - acc: 0.9779 - val_loss: 3.8792 - val_acc: 0.5368\n",
      "Epoch 88/100\n",
      "50000/50000 [==============================] - 4s 80us/step - loss: 0.0688 - acc: 0.9778 - val_loss: 3.8414 - val_acc: 0.5328\n",
      "Epoch 89/100\n",
      "50000/50000 [==============================] - 4s 80us/step - loss: 0.0681 - acc: 0.9775 - val_loss: 3.7943 - val_acc: 0.5372\n",
      "Epoch 90/100\n",
      "50000/50000 [==============================] - 4s 80us/step - loss: 0.0771 - acc: 0.9752 - val_loss: 3.9728 - val_acc: 0.5334\n",
      "Epoch 91/100\n",
      "50000/50000 [==============================] - 4s 80us/step - loss: 0.0679 - acc: 0.9779 - val_loss: 3.9413 - val_acc: 0.5258\n",
      "Epoch 92/100\n",
      "50000/50000 [==============================] - 4s 80us/step - loss: 0.0763 - acc: 0.9765 - val_loss: 3.7898 - val_acc: 0.5288\n",
      "Epoch 93/100\n",
      "50000/50000 [==============================] - 4s 81us/step - loss: 0.0679 - acc: 0.9784 - val_loss: 3.7457 - val_acc: 0.5284\n",
      "Epoch 94/100\n",
      "50000/50000 [==============================] - 4s 80us/step - loss: 0.0657 - acc: 0.9782 - val_loss: 3.8527 - val_acc: 0.5362\n",
      "Epoch 95/100\n",
      "50000/50000 [==============================] - 4s 80us/step - loss: 0.0706 - acc: 0.9777 - val_loss: 3.9253 - val_acc: 0.5273\n",
      "Epoch 96/100\n",
      "50000/50000 [==============================] - 4s 80us/step - loss: 0.0623 - acc: 0.9802 - val_loss: 3.7965 - val_acc: 0.5305\n",
      "Epoch 97/100\n",
      "50000/50000 [==============================] - 4s 80us/step - loss: 0.0520 - acc: 0.9828 - val_loss: 4.0116 - val_acc: 0.5300\n",
      "Epoch 98/100\n",
      "50000/50000 [==============================] - 4s 80us/step - loss: 0.0746 - acc: 0.9760 - val_loss: 4.0401 - val_acc: 0.5268\n",
      "Epoch 99/100\n",
      "50000/50000 [==============================] - 4s 80us/step - loss: 0.0907 - acc: 0.9719 - val_loss: 3.8296 - val_acc: 0.5314\n",
      "Epoch 100/100\n",
      "50000/50000 [==============================] - 4s 80us/step - loss: 0.0504 - acc: 0.9839 - val_loss: 3.9214 - val_acc: 0.5352\n"
     ]
    },
    {
     "data": {
      "text/plain": [
       "<keras.callbacks.History at 0x7f61311a61d0>"
      ]
     },
     "execution_count": 8,
     "metadata": {},
     "output_type": "execute_result"
    }
   ],
   "source": [
    "model.fit(x_train, y_train, \n",
    "          epochs=EPOCHS, \n",
    "          batch_size=BATCH_SIZE, \n",
    "          validation_data=(x_test, y_test), \n",
    "          shuffle=True)"
   ]
  },
  {
   "cell_type": "code",
   "execution_count": 10,
   "metadata": {},
   "outputs": [
    {
     "data": {
      "image/png": "[encoded data removed]",
      "text/plain": [
       "<Figure size 432x288 with 1 Axes>"
      ]
     },
     "metadata": {
      "needs_background": "light"
     },
     "output_type": "display_data"
    },
    {
     "data": {
      "image/png": "[encoded data removed]",
      "text/plain": [
       "<Figure size 432x288 with 1 Axes>"
      ]
     },
     "metadata": {
      "needs_background": "light"
     },
     "output_type": "display_data"
    }
   ],
   "source": [
    "import matplotlib.pyplot as plt\n",
    "%matplotlib inline\n",
    "\n",
    "train_loss = model.history.history[\"loss\"]\n",
    "valid_loss = model.history.history[\"val_loss\"]\n",
    "\n",
    "train_acc = model.history.history[\"acc\"]\n",
    "valid_acc = model.history.history[\"val_acc\"]\n",
    "\n",
    "plt.plot(range(len(train_loss)), train_loss, label=\"train loss\")\n",
    "plt.plot(range(len(valid_loss)), valid_loss, label=\"valid loss\")\n",
    "plt.legend()\n",
    "plt.title(\"Loss\")\n",
    "plt.show()\n",
    "\n",
    "plt.plot(range(len(train_acc)), train_acc, label=\"train accuracy\")\n",
    "plt.plot(range(len(valid_acc)), valid_acc, label=\"valid accuracy\")\n",
    "plt.legend()\n",
    "plt.title(\"Accuracy\")\n",
    "plt.show()"
   ]
  }
 ],
 "metadata": {
  "kernelspec": {
   "display_name": "Python 3",
   "language": "python",
   "name": "python3"
  },
  "language_info": {
   "codemirror_mode": {
    "name": "ipython",
    "version": 3
   },
   "file_extension": ".py",
   "mimetype": "text/x-python",
   "name": "python",
   "nbconvert_exporter": "python",
   "pygments_lexer": "ipython3",
   "version": "3.7.3"
  }
 },
 "nbformat": 4,
 "nbformat_minor": 2
}
