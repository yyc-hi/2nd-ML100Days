{
 "cells": [
  {
   "cell_type": "markdown",
   "metadata": {},
   "source": [
    "## [作業重點]\n",
    "確保你了解隨機森林模型中每個超參數的意義，並觀察調整超參數對結果的影響"
   ]
  },
  {
   "cell_type": "markdown",
   "metadata": {},
   "source": [
    "## 作業\n",
    "\n",
    "1. 試著調整 RandomForestClassifier(...) 中的參數，並觀察是否會改變結果？\n",
    "2. 改用其他資料集 (boston, wine)，並與回歸模型與決策樹的結果進行比較"
   ]
  },
  {
   "cell_type": "code",
   "execution_count": 1,
   "metadata": {},
   "outputs": [],
   "source": [
    "from sklearn import datasets, metrics\n",
    "from sklearn.ensemble import RandomForestClassifier, RandomForestRegressor\n",
    "from sklearn.model_selection import train_test_split"
   ]
  },
  {
   "cell_type": "code",
   "execution_count": 2,
   "metadata": {},
   "outputs": [
    {
     "name": "stdout",
     "output_type": "stream",
     "text": [
      "['sepal length (cm)', 'sepal width (cm)', 'petal length (cm)', 'petal width (cm)']\n"
     ]
    }
   ],
   "source": [
    "iris = datasets.load_iris()\n",
    "x_train, x_test, y_train, y_test = train_test_split(iris.data, iris.target, test_size=0.25, random_state=4)\n",
    "print(iris.feature_names)"
   ]
  },
  {
   "cell_type": "code",
   "execution_count": 3,
   "metadata": {},
   "outputs": [
    {
     "name": "stdout",
     "output_type": "stream",
     "text": [
      "n_estimators = 2\n",
      "Accuracy:  0.9473684210526315\n",
      "Feature importance:  [0.14502146 0.09488909 0.01741135 0.7426781 ]\n",
      "\n",
      "n_estimators = 5\n",
      "Accuracy:  0.9736842105263158\n",
      "Feature importance:  [0.16688724 0.02263126 0.40251066 0.40797084]\n",
      "\n",
      "n_estimators = 10\n",
      "Accuracy:  0.9736842105263158\n",
      "Feature importance:  [0.09903656 0.02150131 0.45199309 0.42746905]\n",
      "\n",
      "n_estimators = 20\n",
      "Accuracy:  0.9736842105263158\n",
      "Feature importance:  [0.05173615 0.02808756 0.43628541 0.48389088]\n",
      "\n",
      "n_estimators = 50\n",
      "Accuracy:  0.9736842105263158\n",
      "Feature importance:  [0.06414237 0.01521086 0.47883561 0.44181116]\n",
      "\n"
     ]
    }
   ],
   "source": [
    "for n in [2, 5, 10, 20, 50]:\n",
    "    print('n_estimators =', n)\n",
    "    clf = RandomForestClassifier(n_estimators=n, max_depth=4)\n",
    "    clf.fit(x_train, y_train)\n",
    "    y_pred = clf.predict(x_test)\n",
    "    acc = metrics.accuracy_score(y_test, y_pred)\n",
    "    print(\"Accuracy: \", acc)\n",
    "    print(\"Feature importance: \", clf.feature_importances_)\n",
    "    print()"
   ]
  },
  {
   "cell_type": "code",
   "execution_count": 4,
   "metadata": {},
   "outputs": [
    {
     "name": "stdout",
     "output_type": "stream",
     "text": [
      "max_depth = 1\n",
      "Accuracy:  0.9473684210526315\n",
      "Feature importance:  [0.2 0.  0.4 0.4]\n",
      "\n",
      "max_depth = 2\n",
      "Accuracy:  0.9736842105263158\n",
      "Feature importance:  [0.11230579 0.02812713 0.41862691 0.44094017]\n",
      "\n",
      "max_depth = 5\n",
      "Accuracy:  0.9736842105263158\n",
      "Feature importance:  [0.17121485 0.04180279 0.45127513 0.33570723]\n",
      "\n",
      "max_depth = 10\n",
      "Accuracy:  0.9736842105263158\n",
      "Feature importance:  [0.05870944 0.01181273 0.60839308 0.32108475]\n",
      "\n",
      "max_depth = 20\n",
      "Accuracy:  0.9736842105263158\n",
      "Feature importance:  [0.09751501 0.03478181 0.53029101 0.33741217]\n",
      "\n"
     ]
    }
   ],
   "source": [
    "for d in [1, 2, 5, 10, 20]:\n",
    "    print('max_depth =', d)\n",
    "    clf = RandomForestClassifier(n_estimators=20, max_depth=d)\n",
    "    clf.fit(x_train, y_train)\n",
    "    y_pred = clf.predict(x_test)\n",
    "    acc = metrics.accuracy_score(y_test, y_pred)\n",
    "    print(\"Accuracy: \", acc)\n",
    "    print(\"Feature importance: \", clf.feature_importances_)\n",
    "    print()"
   ]
  },
  {
   "cell_type": "code",
   "execution_count": 5,
   "metadata": {},
   "outputs": [
    {
     "name": "stdout",
     "output_type": "stream",
     "text": [
      "['CRIM' 'ZN' 'INDUS' 'CHAS' 'NOX' 'RM' 'AGE' 'DIS' 'RAD' 'TAX' 'PTRATIO'\n",
      " 'B' 'LSTAT']\n"
     ]
    }
   ],
   "source": [
    "boston = datasets.load_boston()\n",
    "x_train, x_test, y_train, y_test = train_test_split(boston.data, boston.target, test_size=0.25, random_state=4)\n",
    "print(boston.feature_names)"
   ]
  },
  {
   "cell_type": "code",
   "execution_count": 6,
   "metadata": {},
   "outputs": [
    {
     "name": "stdout",
     "output_type": "stream",
     "text": [
      "n_estimators = 2\n",
      "MSE:  20.305594451388735\n",
      "Feature importance:  [0.04149678 0.         0.         0.00509707 0.00570535 0.43479009\n",
      " 0.00401518 0.01656708 0.         0.         0.02023916 0.\n",
      " 0.47208929]\n",
      "\n",
      "n_estimators = 5\n",
      "MSE:  25.6776279200314\n",
      "Feature importance:  [3.40305820e-02 0.00000000e+00 0.00000000e+00 1.43976468e-03\n",
      " 1.46145738e-02 6.15506503e-01 1.04167168e-02 4.08111191e-02\n",
      " 5.55187135e-04 8.58352410e-03 2.22871683e-02 1.36450503e-03\n",
      " 2.50390356e-01]\n",
      "\n",
      "n_estimators = 10\n",
      "MSE:  19.12382749820557\n",
      "Feature importance:  [0.0412714  0.         0.00568763 0.00315764 0.00526155 0.54298719\n",
      " 0.00426109 0.04618436 0.00334847 0.00942845 0.00321039 0.00723725\n",
      " 0.32796459]\n",
      "\n",
      "n_estimators = 20\n",
      "MSE:  17.308142755270364\n",
      "Feature importance:  [0.04245871 0.         0.00099583 0.00164287 0.02164703 0.49537287\n",
      " 0.00335432 0.04682527 0.00173868 0.01051351 0.01899312 0.00170271\n",
      " 0.35475509]\n",
      "\n",
      "n_estimators = 50\n",
      "MSE:  18.699245494699884\n",
      "Feature importance:  [0.04854767 0.00054693 0.00420166 0.0030371  0.01235979 0.47068082\n",
      " 0.00481971 0.04534576 0.00400448 0.00849423 0.01489723 0.00394613\n",
      " 0.37911851]\n",
      "\n"
     ]
    }
   ],
   "source": [
    "for n in [2, 5, 10, 20, 50]:\n",
    "    print('n_estimators =', n)\n",
    "    reg = RandomForestRegressor(n_estimators=n, max_depth=4)\n",
    "    reg.fit(x_train, y_train)\n",
    "    y_pred = reg.predict(x_test)\n",
    "    mse = metrics.mean_squared_error(y_test, y_pred)\n",
    "    print(\"MSE: \", mse)\n",
    "    print(\"Feature importance: \", reg.feature_importances_)\n",
    "    print()"
   ]
  },
  {
   "cell_type": "code",
   "execution_count": 7,
   "metadata": {},
   "outputs": [
    {
     "name": "stdout",
     "output_type": "stream",
     "text": [
      "max_depth = 1\n",
      "MSE:  42.09351648109223\n",
      "Feature importance:  [0.   0.   0.   0.   0.   0.55 0.   0.   0.   0.   0.   0.   0.45]\n",
      "\n",
      "max_depth = 2\n",
      "MSE:  28.45116762048483\n",
      "Feature importance:  [0.00587395 0.         0.         0.         0.         0.49662136\n",
      " 0.         0.         0.         0.         0.         0.\n",
      " 0.49750469]\n",
      "\n",
      "max_depth = 5\n",
      "MSE:  15.211215186461859\n",
      "Feature importance:  [5.56006406e-02 4.30039546e-04 5.42834938e-03 5.61720999e-04\n",
      " 2.14266451e-02 4.88431674e-01 6.71384259e-03 5.17878715e-02\n",
      " 2.78520275e-03 7.11515267e-03 1.62693980e-02 7.88779579e-03\n",
      " 3.35561667e-01]\n",
      "\n",
      "max_depth = 10\n",
      "MSE:  15.162184904635023\n",
      "Feature importance:  [0.07019364 0.00086256 0.00627345 0.00081137 0.01268776 0.40525597\n",
      " 0.01431991 0.04147062 0.00277051 0.01408809 0.01771434 0.01195332\n",
      " 0.40159846]\n",
      "\n",
      "max_depth = 20\n",
      "MSE:  14.983869283464566\n",
      "Feature importance:  [5.80961598e-02 8.07442249e-04 8.29591095e-03 3.54573765e-04\n",
      " 2.09479195e-02 3.98877438e-01 1.20811729e-02 6.33834350e-02\n",
      " 2.82885892e-03 1.94000249e-02 1.66441059e-02 1.41131495e-02\n",
      " 3.84169808e-01]\n",
      "\n"
     ]
    }
   ],
   "source": [
    "for d in [1, 2, 5, 10, 20]:\n",
    "    print('max_depth =', d)\n",
    "    reg = RandomForestRegressor(n_estimators=20, max_depth=d)\n",
    "    reg.fit(x_train, y_train)\n",
    "    y_pred = reg.predict(x_test)\n",
    "    mse = metrics.mean_squared_error(y_test, y_pred)\n",
    "    print(\"MSE: \", mse)\n",
    "    print(\"Feature importance: \", reg.feature_importances_)\n",
    "    print()"
   ]
  }
 ],
 "metadata": {
  "kernelspec": {
   "display_name": "Python 3",
   "language": "python",
   "name": "python3"
  },
  "language_info": {
   "codemirror_mode": {
    "name": "ipython",
    "version": 3
   },
   "file_extension": ".py",
   "mimetype": "text/x-python",
   "name": "python",
   "nbconvert_exporter": "python",
   "pygments_lexer": "ipython3",
   "version": "3.6.5"
  }
 },
 "nbformat": 4,
 "nbformat_minor": 2
}
