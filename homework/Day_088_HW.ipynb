{
 "cells": [
  {
   "cell_type": "markdown",
   "metadata": {},
   "source": [
    "## Work\n",
    "1. 請嘗試寫一個 callback 用來記錄各類別在訓練過程中，對驗證集的 True Positive 與 True Negative"
   ]
  },
  {
   "cell_type": "code",
   "execution_count": 1,
   "metadata": {},
   "outputs": [
    {
     "name": "stderr",
     "output_type": "stream",
     "text": [
      "Using TensorFlow backend.\n"
     ]
    }
   ],
   "source": [
    "import os\n",
    "import keras\n",
    "\n",
    "# Disable GPU\n",
    "os.environ[\"CUDA_VISIBLE_DEVICES\"] = \"\""
   ]
  },
  {
   "cell_type": "code",
   "execution_count": 2,
   "metadata": {},
   "outputs": [],
   "source": [
    "train, test = keras.datasets.cifar10.load_data()"
   ]
  },
  {
   "cell_type": "code",
   "execution_count": 3,
   "metadata": {},
   "outputs": [],
   "source": [
    "## 資料前處理\n",
    "def preproc_x(x, flatten=True):\n",
    "    x = x / 255.\n",
    "    if flatten:\n",
    "        x = x.reshape((len(x), -1))\n",
    "    return x\n",
    "\n",
    "def preproc_y(y, num_classes=10):\n",
    "    if y.shape[-1] == 1:\n",
    "        y = keras.utils.to_categorical(y, num_classes)\n",
    "    return y    "
   ]
  },
  {
   "cell_type": "code",
   "execution_count": 4,
   "metadata": {},
   "outputs": [],
   "source": [
    "x_train, y_train = train\n",
    "x_test, y_test = test\n",
    "\n",
    "# Preproc the inputs\n",
    "x_train = preproc_x(x_train)\n",
    "x_test = preproc_x(x_test)\n",
    "\n",
    "# Preprc the outputs\n",
    "y_train = preproc_y(y_train)\n",
    "y_test = preproc_y(y_test)"
   ]
  },
  {
   "cell_type": "code",
   "execution_count": 5,
   "metadata": {},
   "outputs": [],
   "source": [
    "from keras.layers import BatchNormalization\n",
    "\n",
    "def build_mlp(input_shape, output_units=10, num_neurons=[512, 256, 128]):\n",
    "    \"\"\"Code Here\n",
    "    建立你的神經網路\n",
    "    \"\"\"\n",
    "    input_layer = keras.layers.Input(input_shape)\n",
    "    \n",
    "    x = input_layer\n",
    "    for i, n_units in enumerate(num_neurons):\n",
    "        x = keras.layers.Dense(units=n_units, activation=\"relu\", name=\"hidden_layer\"+str(i+1))(x)\n",
    "        x = keras.layers.BatchNormalization()(x)\n",
    "    \n",
    "    out = keras.layers.Dense(units=output_units, activation=\"softmax\", name=\"output\")(x)\n",
    "    \n",
    "    model = keras.models.Model(inputs=[input_layer], outputs=[out])\n",
    "    return model"
   ]
  },
  {
   "cell_type": "code",
   "execution_count": 6,
   "metadata": {},
   "outputs": [],
   "source": [
    "## 超參數設定\n",
    "LEARNING_RATE = 1e-3\n",
    "EPOCHS = 25\n",
    "BATCH_SIZE = 1024\n",
    "MOMENTUM = 0.95"
   ]
  },
  {
   "cell_type": "code",
   "execution_count": 7,
   "metadata": {},
   "outputs": [],
   "source": [
    "# 載入 Callbacks\n",
    "from keras.callbacks import Callback\n",
    "import numpy as np\n",
    "\n",
    "class Record_tp_tn(Callback):\n",
    "    \"\"\"Code Here\n",
    "    撰寫一個紀錄 ture positive 與 true negative 數量的 callbacks    \n",
    "    \"\"\"\n",
    "    def on_train_begin(self, epoch, logs = {}):\n",
    "        logs = logs or {}\n",
    "        record_items = [\"val_auc\", \"val_f1sc\", \"val_fp\", \"val_fn\", \"val_tp\", \"val_tn\"]\n",
    "        for i in record_items:\n",
    "            if i not in self.params['metrics']:\n",
    "                self.params['metrics'].append(i)\n",
    "    \n",
    "    def on_epoch_end(self, epoch, logs = {}, thres=0.5):\n",
    "        logs = logs or {}\n",
    "        y_true = self.validation_data[1].argmax(axis = 1)\n",
    "        y_pred = self.model.predict(self.validation_data[0])\n",
    "        y_pred = (y_pred[:, 1] >= thres) * 1\n",
    "        \n",
    "        logs[\"val_tp\"] = np.sum(np.logical_and(y_true == 1, y_pred == 1))\n",
    "        logs[\"val_tn\"] = np.sum(np.logical_and(y_true == 0, y_pred == 0))\n",
    "        \n",
    "rec_tptn = Record_tp_tn()"
   ]
  },
  {
   "cell_type": "code",
   "execution_count": 8,
   "metadata": {
    "scrolled": true
   },
   "outputs": [
    {
     "name": "stdout",
     "output_type": "stream",
     "text": [
      "WARNING:tensorflow:From /opt/conda/lib/python3.7/site-packages/tensorflow/python/framework/op_def_library.py:263: colocate_with (from tensorflow.python.framework.ops) is deprecated and will be removed in a future version.\n",
      "Instructions for updating:\n",
      "Colocations handled automatically by placer.\n",
      "_________________________________________________________________\n",
      "Layer (type)                 Output Shape              Param #   \n",
      "=================================================================\n",
      "input_1 (InputLayer)         (None, 3072)              0         \n",
      "_________________________________________________________________\n",
      "hidden_layer1 (Dense)        (None, 512)               1573376   \n",
      "_________________________________________________________________\n",
      "batch_normalization_1 (Batch (None, 512)               2048      \n",
      "_________________________________________________________________\n",
      "hidden_layer2 (Dense)        (None, 256)               131328    \n",
      "_________________________________________________________________\n",
      "batch_normalization_2 (Batch (None, 256)               1024      \n",
      "_________________________________________________________________\n",
      "hidden_layer3 (Dense)        (None, 128)               32896     \n",
      "_________________________________________________________________\n",
      "batch_normalization_3 (Batch (None, 128)               512       \n",
      "_________________________________________________________________\n",
      "output (Dense)               (None, 10)                1290      \n",
      "=================================================================\n",
      "Total params: 1,742,474\n",
      "Trainable params: 1,740,682\n",
      "Non-trainable params: 1,792\n",
      "_________________________________________________________________\n",
      "WARNING:tensorflow:From /opt/conda/lib/python3.7/site-packages/tensorflow/python/ops/math_ops.py:3066: to_int32 (from tensorflow.python.ops.math_ops) is deprecated and will be removed in a future version.\n",
      "Instructions for updating:\n",
      "Use tf.cast instead.\n",
      "Train on 50000 samples, validate on 10000 samples\n",
      "Epoch 1/25\n",
      "50000/50000 [==============================] - 3s 62us/step - loss: 2.2345 - acc: 0.2702 - val_loss: 2.1810 - val_acc: 0.3097\n",
      "Epoch 2/25\n",
      "50000/50000 [==============================] - 2s 49us/step - loss: 1.7412 - acc: 0.3935 - val_loss: 1.8113 - val_acc: 0.3885\n",
      "Epoch 3/25\n",
      "50000/50000 [==============================] - 2s 48us/step - loss: 1.6156 - acc: 0.4345 - val_loss: 1.6972 - val_acc: 0.4166\n",
      "Epoch 4/25\n",
      "50000/50000 [==============================] - 2s 49us/step - loss: 1.5413 - acc: 0.4629 - val_loss: 1.6406 - val_acc: 0.4295\n",
      "Epoch 5/25\n",
      "50000/50000 [==============================] - 2s 48us/step - loss: 1.4828 - acc: 0.4837 - val_loss: 1.5893 - val_acc: 0.4463\n",
      "Epoch 6/25\n",
      "50000/50000 [==============================] - 2s 49us/step - loss: 1.4378 - acc: 0.4987 - val_loss: 1.5724 - val_acc: 0.4512\n",
      "Epoch 7/25\n",
      "50000/50000 [==============================] - 2s 49us/step - loss: 1.3990 - acc: 0.5132 - val_loss: 1.5366 - val_acc: 0.4667\n",
      "Epoch 8/25\n",
      "50000/50000 [==============================] - 2s 48us/step - loss: 1.3644 - acc: 0.5263 - val_loss: 1.5341 - val_acc: 0.4621\n",
      "Epoch 9/25\n",
      "50000/50000 [==============================] - 2s 49us/step - loss: 1.3337 - acc: 0.5377 - val_loss: 1.5205 - val_acc: 0.4694\n",
      "Epoch 10/25\n",
      "50000/50000 [==============================] - 2s 49us/step - loss: 1.3027 - acc: 0.5474 - val_loss: 1.5090 - val_acc: 0.4793\n",
      "Epoch 11/25\n",
      "50000/50000 [==============================] - 2s 49us/step - loss: 1.2750 - acc: 0.5589 - val_loss: 1.4928 - val_acc: 0.4732\n",
      "Epoch 12/25\n",
      "50000/50000 [==============================] - 2s 49us/step - loss: 1.2482 - acc: 0.5688 - val_loss: 1.4993 - val_acc: 0.4787\n",
      "Epoch 13/25\n",
      "50000/50000 [==============================] - 2s 49us/step - loss: 1.2248 - acc: 0.5777 - val_loss: 1.4763 - val_acc: 0.4813\n",
      "Epoch 14/25\n",
      "50000/50000 [==============================] - 2s 49us/step - loss: 1.1992 - acc: 0.5881 - val_loss: 1.4734 - val_acc: 0.4869\n",
      "Epoch 15/25\n",
      "50000/50000 [==============================] - 2s 49us/step - loss: 1.1762 - acc: 0.5938 - val_loss: 1.4627 - val_acc: 0.4877\n",
      "Epoch 16/25\n",
      "50000/50000 [==============================] - 2s 49us/step - loss: 1.1517 - acc: 0.6044 - val_loss: 1.4641 - val_acc: 0.4849\n",
      "Epoch 17/25\n",
      "50000/50000 [==============================] - 2s 49us/step - loss: 1.1275 - acc: 0.6146 - val_loss: 1.4542 - val_acc: 0.4920\n",
      "Epoch 18/25\n",
      "50000/50000 [==============================] - 2s 49us/step - loss: 1.1056 - acc: 0.6214 - val_loss: 1.4706 - val_acc: 0.4855\n",
      "Epoch 19/25\n",
      "50000/50000 [==============================] - 2s 49us/step - loss: 1.0839 - acc: 0.6299 - val_loss: 1.4574 - val_acc: 0.4893\n",
      "Epoch 20/25\n",
      "50000/50000 [==============================] - 2s 48us/step - loss: 1.0621 - acc: 0.6388 - val_loss: 1.4594 - val_acc: 0.4901\n",
      "Epoch 21/25\n",
      "50000/50000 [==============================] - 2s 48us/step - loss: 1.0403 - acc: 0.6464 - val_loss: 1.4563 - val_acc: 0.4936\n",
      "Epoch 22/25\n",
      "50000/50000 [==============================] - 2s 48us/step - loss: 1.0197 - acc: 0.6543 - val_loss: 1.4539 - val_acc: 0.4971\n",
      "Epoch 23/25\n",
      "50000/50000 [==============================] - 2s 48us/step - loss: 0.9987 - acc: 0.6627 - val_loss: 1.4660 - val_acc: 0.4884\n",
      "Epoch 24/25\n",
      "50000/50000 [==============================] - 2s 49us/step - loss: 0.9787 - acc: 0.6713 - val_loss: 1.4683 - val_acc: 0.4923\n",
      "Epoch 25/25\n",
      "50000/50000 [==============================] - 2s 49us/step - loss: 0.9586 - acc: 0.6782 - val_loss: 1.4679 - val_acc: 0.4923\n"
     ]
    }
   ],
   "source": [
    "model = build_mlp(input_shape=x_train.shape[1:])\n",
    "model.summary()\n",
    "optimizer = keras.optimizers.SGD(lr=LEARNING_RATE, nesterov=True, momentum=MOMENTUM)\n",
    "model.compile(loss=\"categorical_crossentropy\", metrics=[\"accuracy\"], optimizer=optimizer)\n",
    "\n",
    "\"\"\"Code Here\n",
    "將 callbacks 放入模型訓練流程中\n",
    "\"\"\"\n",
    "model.fit(x_train, y_train, \n",
    "          epochs=EPOCHS, \n",
    "          batch_size=BATCH_SIZE, \n",
    "          validation_data=(x_test, y_test), \n",
    "          shuffle=True,\n",
    "          callbacks=[rec_tptn])\n",
    "\n",
    "# Collect results\n",
    "train_loss = model.history.history[\"loss\"]\n",
    "valid_loss = model.history.history[\"val_loss\"]\n",
    "train_acc = model.history.history[\"acc\"]\n",
    "valid_acc = model.history.history[\"val_acc\"]\n",
    "\n",
    "\"\"\"Code Here\n",
    "將 tp/tn 從訓練完的模型中取出\n",
    "\"\"\"\n",
    "valid_tp = model.history.history[\"val_tp\"]\n",
    "valid_tn = model.history.history[\"val_tn\"]"
   ]
  },
  {
   "cell_type": "code",
   "execution_count": 9,
   "metadata": {},
   "outputs": [
    {
     "data": {
      "image/png": "[encoded data removed]",
      "text/plain": [
       "<Figure size 432x288 with 1 Axes>"
      ]
     },
     "metadata": {
      "needs_background": "light"
     },
     "output_type": "display_data"
    },
    {
     "data": {
      "image/png": "[encoded data removed]",
      "text/plain": [
       "<Figure size 432x288 with 1 Axes>"
      ]
     },
     "metadata": {
      "needs_background": "light"
     },
     "output_type": "display_data"
    },
    {
     "data": {
      "image/png": "[encoded data removed]",
      "text/plain": [
       "<Figure size 432x288 with 1 Axes>"
      ]
     },
     "metadata": {
      "needs_background": "light"
     },
     "output_type": "display_data"
    }
   ],
   "source": [
    "import matplotlib.pyplot as plt\n",
    "%matplotlib inline\n",
    "\n",
    "plt.plot(range(len(train_loss)), train_loss, label=\"train loss\")\n",
    "plt.plot(range(len(valid_loss)), valid_loss, label=\"valid loss\")\n",
    "plt.legend()\n",
    "plt.title(\"Loss\")\n",
    "plt.show()\n",
    "\n",
    "plt.plot(range(len(train_acc)), train_acc, label=\"train accuracy\")\n",
    "plt.plot(range(len(valid_acc)), valid_acc, label=\"valid accuracy\")\n",
    "plt.legend()\n",
    "plt.title(\"Accuracy\")\n",
    "plt.show()\n",
    "\n",
    "plt.plot(range(len(valid_tp)), valid_tp, label=\"valid tp\", color=\"navy\")\n",
    "plt.plot(range(len(valid_tn)), valid_tn, label=\"valid tn\", color=\"red\")\n",
    "plt.legend()\n",
    "plt.title(\"True positives and True Negatives\")\n",
    "plt.show()\n"
   ]
  }
 ],
 "metadata": {
  "kernelspec": {
   "display_name": "Python 3",
   "language": "python",
   "name": "python3"
  },
  "language_info": {
   "codemirror_mode": {
    "name": "ipython",
    "version": 3
   },
   "file_extension": ".py",
   "mimetype": "text/x-python",
   "name": "python",
   "nbconvert_exporter": "python",
   "pygments_lexer": "ipython3",
   "version": "3.7.3"
  }
 },
 "nbformat": 4,
 "nbformat_minor": 2
}
