{
 "cells": [
  {
   "cell_type": "markdown",
   "metadata": {},
   "source": [
    "## [作業重點]\n",
    "使用 Sklearn 中的 Lasso, Ridge 模型，來訓練各種資料集，務必了解送進去模型訓練的**資料型態**為何，也請了解模型中各項參數的意義。\n",
    "\n",
    "機器學習的模型非常多種，但要訓練的資料多半有固定的格式，確保你了解訓練資料的格式為何，這樣在應用新模型時，就能夠最快的上手開始訓練！"
   ]
  },
  {
   "cell_type": "markdown",
   "metadata": {},
   "source": [
    "## 練習時間\n",
    "試著使用 sklearn datasets 的其他資料集 (boston, ...)，來訓練自己的線性迴歸模型，並加上適當的正則話來觀察訓練情形。"
   ]
  },
  {
   "cell_type": "code",
   "execution_count": 1,
   "metadata": {},
   "outputs": [],
   "source": [
    "import numpy as np\n",
    "import matplotlib.pyplot as plt\n",
    "from sklearn import datasets, linear_model\n",
    "from sklearn.model_selection import train_test_split\n",
    "from sklearn.metrics import mean_squared_error, r2_score"
   ]
  },
  {
   "cell_type": "code",
   "execution_count": 2,
   "metadata": {},
   "outputs": [],
   "source": [
    "def run_linear(x_train, x_test, y_train, y_test):\n",
    "    regr = linear_model.LinearRegression()\n",
    "    regr.fit(x_train, y_train)\n",
    "    y_pred = regr.predict(x_test)\n",
    "    print('coef of Linear Regression:', regr.coef_)\n",
    "    print(\"Mean squared error: %.2f\"\n",
    "      % mean_squared_error(y_test, y_pred))"
   ]
  },
  {
   "cell_type": "code",
   "execution_count": 3,
   "metadata": {},
   "outputs": [],
   "source": [
    "def run_Lasso(x_train, x_test, y_train, y_test, alpha=1.0):\n",
    "    print('Lasso: alpha =', alpha)\n",
    "    lasso = linear_model.Lasso(alpha=alpha)\n",
    "    lasso.fit(x_train, y_train)\n",
    "    y_pred = lasso.predict(x_test)\n",
    "    print('coef of Lasso:', lasso.coef_)\n",
    "    print(\"Mean squared error: %.2f\"\n",
    "      % mean_squared_error(y_test, y_pred))"
   ]
  },
  {
   "cell_type": "code",
   "execution_count": 4,
   "metadata": {},
   "outputs": [],
   "source": [
    "def run_Ridge(x_train, x_test, y_train, y_test, alpha=1.0):\n",
    "    print('Ridge: alpha =', alpha)\n",
    "    ridge = linear_model.Ridge(alpha=1.0)\n",
    "    ridge.fit(x_train, y_train)\n",
    "    y_pred = ridge.predict(x_test)\n",
    "    print('coef of Ridge:', ridge.coef_)\n",
    "    print(\"Mean squared error: %.2f\"\n",
    "      % mean_squared_error(y_test, y_pred))"
   ]
  },
  {
   "cell_type": "code",
   "execution_count": 5,
   "metadata": {},
   "outputs": [
    {
     "name": "stdout",
     "output_type": "stream",
     "text": [
      "coef of Linear Regression: [-1.14743504e-01  4.70875035e-02  8.70282354e-03  3.23818824e+00\n",
      " -1.67240567e+01  3.87662996e+00 -1.08218769e-02 -1.54144627e+00\n",
      "  2.92604151e-01 -1.33989537e-02 -9.07306805e-01  8.91271054e-03\n",
      " -4.58747039e-01]\n",
      "Mean squared error: 25.41\n"
     ]
    }
   ],
   "source": [
    "boston = datasets.load_boston()\n",
    "x_train, x_test, y_train, y_test = train_test_split(boston.data, boston.target, test_size=0.2, random_state=4)\n",
    "run_linear(x_train, x_test, y_train, y_test)"
   ]
  },
  {
   "cell_type": "code",
   "execution_count": 6,
   "metadata": {},
   "outputs": [
    {
     "name": "stdout",
     "output_type": "stream",
     "text": [
      "Lasso: alpha = 0.001\n",
      "coef of Lasso: [-1.14561044e-01  4.71145361e-02  7.26871520e-03  3.21453657e+00\n",
      " -1.63950307e+01  3.87760778e+00 -1.10705423e-02 -1.53616665e+00\n",
      "  2.91783958e-01 -1.34201661e-02 -9.03969148e-01  8.92800709e-03\n",
      " -4.59277240e-01]\n",
      "Mean squared error: 25.41\n",
      "\n",
      "Ridge: alpha = 0.001\n",
      "coef of Ridge: [-1.11085562e-01  4.79127892e-02 -2.36686153e-02  2.96582333e+00\n",
      " -9.35915972e+00  3.92379527e+00 -1.73228057e-02 -1.43323726e+00\n",
      "  2.74489395e-01 -1.38858412e-02 -8.31911824e-01  9.25837299e-03\n",
      " -4.67523596e-01]\n",
      "Mean squared error: 25.73\n",
      "\n",
      "Lasso: alpha = 0.01\n",
      "coef of Lasso: [-1.12892853e-01  4.74074564e-02 -3.84077249e-03  2.99890165e+00\n",
      " -1.34625658e+01  3.88738133e+00 -1.33125037e-02 -1.48759346e+00\n",
      "  2.84979659e-01 -1.36635281e-02 -8.74396435e-01  9.06944588e-03\n",
      " -4.64135937e-01]\n",
      "Mean squared error: 25.47\n",
      "\n",
      "Ridge: alpha = 0.01\n",
      "coef of Ridge: [-1.11085562e-01  4.79127892e-02 -2.36686153e-02  2.96582333e+00\n",
      " -9.35915972e+00  3.92379527e+00 -1.73228057e-02 -1.43323726e+00\n",
      "  2.74489395e-01 -1.38858412e-02 -8.31911824e-01  9.25837299e-03\n",
      " -4.67523596e-01]\n",
      "Mean squared error: 25.73\n",
      "\n",
      "Lasso: alpha = 0.1\n",
      "coef of Lasso: [-0.10460997  0.04881541 -0.04507749  1.15331258 -0.          3.81707075\n",
      " -0.02085665 -1.23526694  0.25920388 -0.01516558 -0.74728244  0.00973548\n",
      " -0.4998582 ]\n",
      "Mean squared error: 26.44\n",
      "\n",
      "Ridge: alpha = 0.1\n",
      "coef of Ridge: [-1.11085562e-01  4.79127892e-02 -2.36686153e-02  2.96582333e+00\n",
      " -9.35915972e+00  3.92379527e+00 -1.73228057e-02 -1.43323726e+00\n",
      "  2.74489395e-01 -1.38858412e-02 -8.31911824e-01  9.25837299e-03\n",
      " -4.67523596e-01]\n",
      "Mean squared error: 25.73\n",
      "\n",
      "Lasso: alpha = 1.0\n",
      "coef of Lasso: [-0.06479441  0.04581271 -0.          0.         -0.          1.17737271\n",
      "  0.011112   -0.73717556  0.23337442 -0.01550582 -0.69307422  0.00769147\n",
      " -0.69322155]\n",
      "Mean squared error: 28.95\n",
      "\n",
      "Ridge: alpha = 1.0\n",
      "coef of Ridge: [-1.11085562e-01  4.79127892e-02 -2.36686153e-02  2.96582333e+00\n",
      " -9.35915972e+00  3.92379527e+00 -1.73228057e-02 -1.43323726e+00\n",
      "  2.74489395e-01 -1.38858412e-02 -8.31911824e-01  9.25837299e-03\n",
      " -4.67523596e-01]\n",
      "Mean squared error: 25.73\n",
      "\n"
     ]
    }
   ],
   "source": [
    "for alpha in [0.001, 0.01, 0.1, 1.0]:\n",
    "    run_Lasso(x_train, x_test, y_train, y_test, alpha=alpha)\n",
    "    print()\n",
    "    run_Ridge(x_train, x_test, y_train, y_test, alpha=alpha)\n",
    "    print()"
   ]
  }
 ],
 "metadata": {
  "kernelspec": {
   "display_name": "Python 3",
   "language": "python",
   "name": "python3"
  },
  "language_info": {
   "codemirror_mode": {
    "name": "ipython",
    "version": 3
   },
   "file_extension": ".py",
   "mimetype": "text/x-python",
   "name": "python",
   "nbconvert_exporter": "python",
   "pygments_lexer": "ipython3",
   "version": "3.6.5"
  }
 },
 "nbformat": 4,
 "nbformat_minor": 2
}
