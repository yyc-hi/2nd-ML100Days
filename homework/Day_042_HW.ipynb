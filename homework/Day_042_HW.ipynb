{
 "cells": [
  {
   "cell_type": "markdown",
   "metadata": {},
   "source": [
    "## [作業重點]\n",
    "目前你應該已經要很清楚資料集中，資料的型態是什麼樣子囉！包含特徵 (features) 與標籤 (labels)。因此要記得未來不管什麼專案，必須要把資料清理成相同的格式，才能送進模型訓練。\n",
    "今天的作業開始踏入決策樹這個非常重要的模型，請務必確保你理解模型中每個超參數的意思，並試著調整看看，對最終預測結果的影響為何"
   ]
  },
  {
   "cell_type": "markdown",
   "metadata": {},
   "source": [
    "## 作業\n",
    "\n",
    "1. 試著調整 DecisionTreeClassifier(...) 中的參數，並觀察是否會改變結果？\n",
    "2. 改用其他資料集 (boston, wine)，並與回歸模型的結果進行比較"
   ]
  },
  {
   "cell_type": "code",
   "execution_count": 1,
   "metadata": {},
   "outputs": [],
   "source": [
    "from sklearn import datasets, metrics\n",
    "from sklearn.tree import DecisionTreeClassifier, DecisionTreeRegressor\n",
    "from sklearn.model_selection import train_test_split"
   ]
  },
  {
   "cell_type": "code",
   "execution_count": 2,
   "metadata": {},
   "outputs": [
    {
     "name": "stdout",
     "output_type": "stream",
     "text": [
      "max_depth = 1 Acuuracy:  0.6842105263157895\n",
      "max_depth = 2 Acuuracy:  0.9736842105263158\n",
      "max_depth = 5 Acuuracy:  0.9736842105263158\n",
      "max_depth = 10 Acuuracy:  0.9736842105263158\n",
      "max_depth = None Acuuracy:  0.9736842105263158\n"
     ]
    }
   ],
   "source": [
    "iris = datasets.load_iris()\n",
    "x_train, x_test, y_train, y_test = train_test_split(iris.data, iris.target, test_size=0.25, random_state=4)\n",
    "for d in [1, 2, 5, 10, None]:\n",
    "    clf = DecisionTreeClassifier(max_depth=d)\n",
    "    clf.fit(x_train, y_train)\n",
    "    y_pred = clf.predict(x_test)\n",
    "    acc = metrics.accuracy_score(y_test, y_pred)\n",
    "    print('max_depth =', d, \"Acuuracy: \", acc)"
   ]
  },
  {
   "cell_type": "code",
   "execution_count": 3,
   "metadata": {},
   "outputs": [
    {
     "name": "stdout",
     "output_type": "stream",
     "text": [
      "min_samples_split = 2 Acuuracy:  0.9736842105263158\n",
      "min_samples_split = 5 Acuuracy:  0.9736842105263158\n",
      "min_samples_split = 10 Acuuracy:  0.9736842105263158\n",
      "min_samples_split = 20 Acuuracy:  0.9736842105263158\n",
      "min_samples_split = 50 Acuuracy:  0.9736842105263158\n",
      "min_samples_split = 100 Acuuracy:  0.6842105263157895\n"
     ]
    }
   ],
   "source": [
    "for s in [2, 5, 10, 20, 50, 100]:\n",
    "    clf = DecisionTreeClassifier(min_samples_split=s)\n",
    "    clf.fit(x_train, y_train)\n",
    "    y_pred = clf.predict(x_test)\n",
    "    acc = metrics.accuracy_score(y_test, y_pred)\n",
    "    print('min_samples_split =', s, \"Acuuracy: \", acc)"
   ]
  },
  {
   "cell_type": "code",
   "execution_count": 4,
   "metadata": {},
   "outputs": [
    {
     "name": "stdout",
     "output_type": "stream",
     "text": [
      "min_samples_leaf = 1 Acuuracy:  0.9736842105263158\n",
      "min_samples_leaf = 2 Acuuracy:  0.9736842105263158\n",
      "min_samples_leaf = 5 Acuuracy:  0.9736842105263158\n",
      "min_samples_leaf = 10 Acuuracy:  0.9736842105263158\n",
      "min_samples_leaf = 20 Acuuracy:  0.9736842105263158\n",
      "min_samples_leaf = 50 Acuuracy:  0.7894736842105263\n",
      "min_samples_leaf = 100 Acuuracy:  0.21052631578947367\n"
     ]
    }
   ],
   "source": [
    "for s in [1, 2, 5, 10, 20, 50, 100]:\n",
    "    clf = DecisionTreeClassifier(min_samples_leaf=s)\n",
    "    clf.fit(x_train, y_train)\n",
    "    y_pred = clf.predict(x_test)\n",
    "    acc = metrics.accuracy_score(y_test, y_pred)\n",
    "    print('min_samples_leaf =', s, \"Acuuracy: \", acc)"
   ]
  },
  {
   "cell_type": "code",
   "execution_count": 5,
   "metadata": {},
   "outputs": [
    {
     "name": "stdout",
     "output_type": "stream",
     "text": [
      "max_depth = 1 MSE:  54.29288775165537\n",
      "max_depth = 2 MSE:  35.756003040165595\n",
      "max_depth = 5 MSE:  27.370327944272464\n",
      "max_depth = 10 MSE:  25.11553502151516\n",
      "max_depth = None MSE:  26.418818897637795\n"
     ]
    }
   ],
   "source": [
    "boston = datasets.load_boston()\n",
    "x_train, x_test, y_train, y_test = train_test_split(boston.data, boston.target, test_size=0.25, random_state=4)\n",
    "for d in [1, 2, 5, 10, None]:\n",
    "    reg = DecisionTreeRegressor(max_depth=d)\n",
    "    reg.fit(x_train, y_train)\n",
    "    y_pred = reg.predict(x_test)\n",
    "    mse = metrics.mean_squared_error(y_test, y_pred)\n",
    "    print('max_depth =', d, \"MSE: \", mse)"
   ]
  },
  {
   "cell_type": "code",
   "execution_count": 6,
   "metadata": {},
   "outputs": [
    {
     "name": "stdout",
     "output_type": "stream",
     "text": [
      "min_samples_split = 2 MSE:  27.151574803149604\n",
      "min_samples_split = 5 MSE:  25.04243602362204\n",
      "min_samples_split = 10 MSE:  23.111811248903905\n",
      "min_samples_split = 20 MSE:  24.15263170693132\n",
      "min_samples_split = 50 MSE:  24.34476452981375\n",
      "min_samples_split = 100 MSE:  30.318003554136368\n"
     ]
    }
   ],
   "source": [
    "for s in [2, 5, 10, 20, 50, 100]:\n",
    "    reg = DecisionTreeRegressor(min_samples_split=s)\n",
    "    reg.fit(x_train, y_train)\n",
    "    y_pred = reg.predict(x_test)\n",
    "    mse = metrics.mean_squared_error(y_test, y_pred)\n",
    "    print('min_samples_split =', s, \"MSE: \", mse)"
   ]
  },
  {
   "cell_type": "code",
   "execution_count": 7,
   "metadata": {},
   "outputs": [
    {
     "name": "stdout",
     "output_type": "stream",
     "text": [
      "min_samples_leaf = 1 MSE:  25.556062992125984\n",
      "min_samples_leaf = 2 MSE:  27.01891513560805\n",
      "min_samples_leaf = 5 MSE:  21.977215344014542\n",
      "min_samples_leaf = 10 MSE:  24.55654990838858\n",
      "min_samples_leaf = 20 MSE:  24.358121584865216\n",
      "min_samples_leaf = 50 MSE:  31.61926678400385\n",
      "min_samples_leaf = 100 MSE:  52.8314377601667\n"
     ]
    }
   ],
   "source": [
    "for s in [1, 2, 5, 10, 20, 50, 100]:\n",
    "    reg = DecisionTreeRegressor(min_samples_leaf=s)\n",
    "    reg.fit(x_train, y_train)\n",
    "    y_pred = reg.predict(x_test)\n",
    "    mse = metrics.mean_squared_error(y_test, y_pred)\n",
    "    print('min_samples_leaf =', s, \"MSE: \", mse)"
   ]
  }
 ],
 "metadata": {
  "kernelspec": {
   "display_name": "Python 3",
   "language": "python",
   "name": "python3"
  },
  "language_info": {
   "codemirror_mode": {
    "name": "ipython",
    "version": 3
   },
   "file_extension": ".py",
   "mimetype": "text/x-python",
   "name": "python",
   "nbconvert_exporter": "python",
   "pygments_lexer": "ipython3",
   "version": "3.6.5"
  }
 },
 "nbformat": 4,
 "nbformat_minor": 2
}
